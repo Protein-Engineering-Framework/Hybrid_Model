{
 "cells": [
  {
   "cell_type": "markdown",
   "metadata": {},
   "source": [
    "# Example (bash) commands for preprocessing and Python code for hybrid modeling"
   ]
  },
  {
   "cell_type": "markdown",
   "metadata": {},
   "source": [
    "## Generating an MSA with Jackhmmer\n",
    "\n",
    "Jackhmmer, implemented in the HMMER suite, is available at http://hmmer.org/download.html.\n",
    "To perform a Jackhmmer search with a query sequence, e.g., `pabp_yeast.fasta`, against a locally stored database, e.g., `uniref100.fasta` (available at https://ftp.uniprot.org/pub/databases/uniprot/uniref/uniref100/ but not provided here as the file size is very large), using a bit score of 0.5 (incT = 75 * 0.5 = 37.5), run:"
   ]
  },
  {
   "cell_type": "raw",
   "metadata": {},
   "source": [
    "jackhmmer --incT 37.5 --cpu 4 --noali -A pabp_files/pabp_yeast_jhmmer.sto pabp_files/pabp_yeast.fasta pabp_files/uniref100.fasta"
   ]
  },
  {
   "cell_type": "markdown",
   "metadata": {},
   "source": [
    "## Post-processing of the MSA\n",
    "To trim the MSA, excluding all gap positions of the wild-type, positions with more than 30 % gaps, and sequences with more than 50 % gaps, run the provided Python script (input alignment format: Stockholm (.sto), output alignment format: A2M (.a2m)):"
   ]
  },
  {
   "cell_type": "raw",
   "metadata": {},
   "source": [
    "python scripts/sto2a2m.py -sto pabp_files/pabp_yeast_jhmmer.sto"
   ]
  },
  {
   "cell_type": "markdown",
   "metadata": {},
   "source": [
    "## Computing evolutionary local and coupling terms with PLMC\n",
    "To derive evolutionary terms from the trimmed MSA, which are needed to generate sequence encodings for training supervised models and for statistical modeling, PLMC is used, which is available at https://github.com/debbiemarkslab/plmc. Here, to run PLMC, `-le` is set as previously output/printed by the `sto2a2m.py` script (`-le`= 0.2·(N_sites − 1) and `-lh`=0.01 by default), and the maximum number of iterations (`-m`) is set to 3500 (flag `-n`/`--ncores` only available when compiled with OpenMP):\n"
   ]
  },
  {
   "cell_type": "raw",
   "metadata": {},
   "source": [
    "plmc -o pabp_files/pabp_yeast_plmc.params -n 48 -le 14.0 -lh 0.01 -m 3500 -g -f pabp_yeast pabp_files/pabp_yeast_jhmmer.a2m"
   ]
  },
  {
   "cell_type": "markdown",
   "metadata": {},
   "source": [
    "## Encoding sequences\n",
    "The output file (`pabp_yeast_plmc.params`), wich contains the coupling parameters, can then be used to encode sequences for supervised modeling by running the provided Python script `make_dataframe.py`. The script generates features for the sequences provided in the input CSV file (the fitness column is labeled with `y`) and writes the features to a new \"encoded CSV\" file; remember to shift the starting position according to the wild type sequence position of the first position in the trimmed MSA:"
   ]
  },
  {
   "cell_type": "raw",
   "metadata": {},
   "source": [
    "python scripts/make_dataframe.py -start_pos 126 -params pabp_files/pabp_yeast_plmc.params -fitness y -csv pabp_files/PABP_YEAST_Fields2013-singles.csv -n_processes 48"
   ]
  },
  {
   "cell_type": "markdown",
   "metadata": {},
   "source": [
    "## Generating and testing a hybrid model\n",
    "To generate a hybrid model, we use the `Hybrid_Model` class of the Python script `hybrid_model.py` and load the wild-type sequence (`PABP_YEAST_Fields2013-singles_wt_encoded.npy`) and the encoded CSV file (`PABP_YEAST_Fields2013-singles_encoded.csv`). Then, the \"PABP `Hybrid_Model` class instance\" can be used to compute the performance of the hybrid model using 80% of the data for training and 20% for testing (`performance_80_20=hybrid_model.performance()`). Noteworthy, the statistical DCA model is generated in the background and no command has to be specified explicitly. Now we can compute the performance of the hybrid model by correlating the predictions and the measured (true) fitness values of the (left-out) test data. As performance metric we use the Spearman rank correlation coefficient:"
   ]
  },
  {
   "cell_type": "code",
   "execution_count": 1,
   "metadata": {},
   "outputs": [
    {
     "name": "stdout",
     "output_type": "stream",
     "text": [
      "Spearmanr singles 80/20: 0.73 +/- 0.05\n"
     ]
    }
   ],
   "source": [
    "import os\n",
    "import numpy as np\n",
    "from scripts.hybrid_model import Hybrid_Model\n",
    "\n",
    "hybrid_model=Hybrid_Model(\n",
    "    os.path.join('pabp_files', 'PABP_YEAST_Fields2013-singles_wt_encoded.npy'),\n",
    "    os.path.join('pabp_files', 'PABP_YEAST_Fields2013-singles_encoded.csv')\n",
    ")\n",
    "\n",
    "performance_80_20=hybrid_model.performance()\n",
    "X_singles,y_singles=hybrid_model.X,hybrid_model.y  # saving all single-substution encoding-fitness data in memory for later on\n",
    "\n",
    "print('Spearmanr singles 80/20: %.2f +/- %.2f'%(performance_80_20.mean(), performance_80_20.std(ddof=1)))"
   ]
  },
  {
   "cell_type": "markdown",
   "metadata": {},
   "source": [
    "# Training on single substituted variant data and predicting recombinants\n",
    "We can also use the hybrid model instance to optimize the individual model contributions `beta1` (statistical DCA model) and `beta2` (linear model `ridge` trained in a supervised manner) on all single substituted variant data and predict all recombinants that are in the encoded test set, i.e., in `PABP_YEAST_Fields2013-doubles_encoded.csv`, to estimate the generalization performance for predicting the fitness of recombinant variants:"
   ]
  },
  {
   "cell_type": "code",
   "execution_count": 2,
   "metadata": {},
   "outputs": [
    {
     "name": "stdout",
     "output_type": "stream",
     "text": [
      "Spearmanr doubles 80/20: 0.78\n"
     ]
    }
   ],
   "source": [
    "import pandas as pd\n",
    "from scipy.stats import spearmanr\n",
    "\n",
    "df=pd.read_csv(os.path.join('pabp_files','PABP_YEAST_Fields2013-doubles_encoded.csv'),sep=';')\n",
    "X_doubles=df.iloc[:,2:].to_numpy()\n",
    "y_doubles=df.iloc[:,1].to_numpy()\n",
    "\n",
    "# Using all single-substution encoding-fitness data to construct a new hybrid model\n",
    "beta1,beta2,ridge=hybrid_model._settings(X_singles,y_singles)  # Getting individual model contributions and the trained RidgeR.\n",
    "y_doubles_pred=hybrid_model.predict(X_doubles, ridge, beta1, beta2)  # Predict all recombinants of entire doubles set\n",
    "\n",
    "print('Spearmanr doubles 80/20: %.2f'%(spearmanr(y_doubles, y_doubles_pred)[0]))"
   ]
  },
  {
   "cell_type": "markdown",
   "metadata": {},
   "source": [
    "Done!"
   ]
  }
 ],
 "metadata": {
  "kernelspec": {
   "display_name": "Python 3",
   "language": "python",
   "name": "python3"
  },
  "language_info": {
   "codemirror_mode": {
    "name": "ipython",
    "version": 3
   },
   "file_extension": ".py",
   "mimetype": "text/x-python",
   "name": "python",
   "nbconvert_exporter": "python",
   "pygments_lexer": "ipython3",
   "version": "3.8.10"
  }
 },
 "nbformat": 4,
 "nbformat_minor": 2
}
