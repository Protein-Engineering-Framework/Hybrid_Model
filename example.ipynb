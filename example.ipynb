{
 "cells": [
  {
   "cell_type": "markdown",
   "metadata": {},
   "source": [
    "## Encoding"
   ]
  },
  {
   "cell_type": "raw",
   "metadata": {},
   "source": [
    "$ python make_dataframe.py -start_pos 2 -params RL401_YEAST_Bolon2013.params -fitness selection_coefficient -csv RL401_YEAST_Bolon2013.csv -n_processes 6"
   ]
  },
  {
   "cell_type": "markdown",
   "metadata": {},
   "source": [
    "## Low-N"
   ]
  },
  {
   "cell_type": "code",
   "execution_count": null,
   "metadata": {},
   "outputs": [],
   "source": [
    "import numpy as np\n",
    "import multiprocessing as mp\n",
    "from hybrid_model import Hybrid_Model\n",
    "\n",
    "n_cores=6\n",
    "\n",
    "study=Hybrid_Model('RL401_YEAST_Bolon2013_wt_encoded.npy','RL401_YEAST_Bolon2013_encoded.csv')\n",
    "\n",
    "train_sizes_shuffled=study._get_train_sizes()\n",
    "np.random.shuffle(train_sizes_shuffled)\n",
    "\n",
    "if train_sizes_shuffled.size < n_cores:\n",
    "    n_cores=train_sizes_shuffled.size\n",
    "\n",
    "manager=mp.Manager()\n",
    "data=manager.list()\n",
    "\n",
    "processes=[]\n",
    "for train_sizes in np.array_split(train_sizes_shuffled,n_cores):\n",
    "    p=mp.Process(target=study.run, args=[train_sizes,data])\n",
    "    p.start()\n",
    "    processes.append(p)\n",
    "\n",
    "for p in processes:\n",
    "    p.join()\n",
    "\n",
    "data=np.array(data,dtype=object)\n",
    "data=np.concatenate(data,axis=1)\n",
    "np.save('RL401_YEAST_Bolon2013_hybrid_model_data.npy',data)"
   ]
  },
  {
   "cell_type": "markdown",
   "metadata": {},
   "source": [
    "## Visualize Results"
   ]
  },
  {
   "cell_type": "code",
   "execution_count": 21,
   "metadata": {},
   "outputs": [
    {
     "data": {
      "image/png": "[encoded data removed]",
      "text/plain": [
       "<Figure size 432x288 with 1 Axes>"
      ]
     },
     "metadata": {
      "needs_background": "light"
     },
     "output_type": "display_data"
    }
   ],
   "source": [
    "import matplotlib.pyplot as plt\n",
    "\n",
    "def sort_and_analyze(\n",
    "    x:np.ndarray,\n",
    "    arg:np.ndarray,\n",
    "    n_runs=10\n",
    "    ) -> tuple:\n",
    "\n",
    "    x=x[arg]\n",
    "    x=np.split(x,int(x.size/n_runs))\n",
    "    x=np.vstack(x)    \n",
    "    return (np.mean(x,axis=1),np.std(x,axis=1,ddof=1,dtype=float)/np.sqrt(x.shape[1]))\n",
    "\n",
    "data=np.load('RL401_YEAST_Bolon2013_hybrid_model_data.npy',allow_pickle=True)\n",
    "\n",
    "spearmanrs,_,_,_,training_sizes,testing_sizes=data\n",
    "arg=np.argsort(training_sizes)\n",
    "x_training,_=sort_and_analyze(training_sizes,arg)\n",
    "x_testing,_=sort_and_analyze(testing_sizes,arg)\n",
    "\n",
    "srs_mean,srs_sem=sort_and_analyze(spearmanrs,arg)\n",
    "\n",
    "x_training=np.array(x_training,dtype=int)\n",
    "x_testing=np.array(x_testing,dtype=int)\n",
    "\n",
    "srs_mean=np.array(srs_mean,dtype=float)\n",
    "srs_sem=np.array(srs_sem,dtype=float)\n",
    "\n",
    "clr='C0'\n",
    "fig,ax=plt.subplots()\n",
    "\n",
    "ax.scatter(x_training,srs_mean,color=clr,s=10)\n",
    "ax.plot(x_training,srs_mean,color=clr)\n",
    "ax.fill_between(x_training,srs_mean+srs_sem,srs_mean-srs_sem, alpha=0.2,color='C0')\n",
    "ax.set_ylim(-0.05,1.05)\n",
    "\n",
    "ax.set_xlabel('Size of the training set (absolute)',size=12)\n",
    "ax.set_ylabel(r\"Spearman's $\\rho$\",size=12)\n",
    "\n",
    "plt.show()"
   ]
  },
  {
   "cell_type": "code",
   "execution_count": 24,
   "metadata": {},
   "outputs": [
    {
     "data": {
      "text/plain": [
       "array([0.46721864, 0.47741737, 0.4894432 , 0.46038745, 0.47555687,\n",
       "       0.45317401, 0.49911854, 0.52907323, 0.50032066, 0.55361624,\n",
       "       0.56385418, 0.57418161, 0.61227592, 0.62338354, 0.65448017,\n",
       "       0.65446465, 0.67907967, 0.70203525, 0.70562911, 0.71716813,\n",
       "       0.72713237, 0.73702741, 0.74924287, 0.74934764, 0.75838283,\n",
       "       0.75229811])"
      ]
     },
     "execution_count": 24,
     "metadata": {},
     "output_type": "execute_result"
    }
   ],
   "source": [
    "srs_mean"
   ]
  }
 ],
 "metadata": {
  "kernelspec": {
   "display_name": "Python 3",
   "language": "python",
   "name": "python3"
  },
  "language_info": {
   "codemirror_mode": {
    "name": "ipython",
    "version": 3
   },
   "file_extension": ".py",
   "mimetype": "text/x-python",
   "name": "python",
   "nbconvert_exporter": "python",
   "pygments_lexer": "ipython3",
   "version": "3.7.3"
  }
 },
 "nbformat": 4,
 "nbformat_minor": 2
}
